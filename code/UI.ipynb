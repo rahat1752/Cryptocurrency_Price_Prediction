{
  "cells": [
    {
      "cell_type": "code",
      "execution_count": null,
      "id": "aa63f65f",
      "metadata": {
        "id": "aa63f65f",
        "outputId": "cbfb4d41-b7e0-4a05-eae5-dd5f7f357e00"
      },
      "outputs": [
        {
          "name": "stdout",
          "output_type": "stream",
          "text": [
            "Collecting tensorflow\n",
            "  Downloading tensorflow-2.11.0-cp39-cp39-win_amd64.whl (1.9 kB)\n",
            "Collecting tensorflow-intel==2.11.0\n",
            "  Downloading tensorflow_intel-2.11.0-cp39-cp39-win_amd64.whl (266.3 MB)\n",
            "Collecting opt-einsum>=2.3.2\n",
            "  Using cached opt_einsum-3.3.0-py3-none-any.whl (65 kB)\n",
            "Requirement already satisfied: packaging in c:\\programdata\\anaconda3\\lib\\site-packages (from tensorflow-intel==2.11.0->tensorflow) (21.0)\n",
            "Requirement already satisfied: typing-extensions>=3.6.6 in c:\\programdata\\anaconda3\\lib\\site-packages (from tensorflow-intel==2.11.0->tensorflow) (3.10.0.2)\n",
            "Collecting gast<=0.4.0,>=0.2.1\n",
            "  Downloading gast-0.4.0-py3-none-any.whl (9.8 kB)\n",
            "Requirement already satisfied: wrapt>=1.11.0 in c:\\programdata\\anaconda3\\lib\\site-packages (from tensorflow-intel==2.11.0->tensorflow) (1.12.1)\n",
            "Collecting libclang>=13.0.0\n",
            "  Downloading libclang-15.0.6.1-py2.py3-none-win_amd64.whl (23.2 MB)\n",
            "Collecting astunparse>=1.6.0\n",
            "  Using cached astunparse-1.6.3-py2.py3-none-any.whl (12 kB)\n",
            "Requirement already satisfied: h5py>=2.9.0 in c:\\programdata\\anaconda3\\lib\\site-packages (from tensorflow-intel==2.11.0->tensorflow) (3.2.1)\n",
            "Collecting protobuf<3.20,>=3.9.2\n",
            "  Downloading protobuf-3.19.6-cp39-cp39-win_amd64.whl (895 kB)\n",
            "Requirement already satisfied: keras<2.12,>=2.11.0 in c:\\programdata\\anaconda3\\lib\\site-packages (from tensorflow-intel==2.11.0->tensorflow) (2.11.0)\n",
            "Collecting termcolor>=1.1.0\n",
            "  Downloading termcolor-2.2.0-py3-none-any.whl (6.6 kB)\n",
            "Collecting tensorflow-io-gcs-filesystem>=0.23.1\n",
            "  Downloading tensorflow_io_gcs_filesystem-0.30.0-cp39-cp39-win_amd64.whl (1.5 MB)\n",
            "Requirement already satisfied: numpy>=1.20 in c:\\programdata\\anaconda3\\lib\\site-packages (from tensorflow-intel==2.11.0->tensorflow) (1.20.3)\n",
            "Collecting absl-py>=1.0.0\n",
            "  Downloading absl_py-1.4.0-py3-none-any.whl (126 kB)\n",
            "Collecting flatbuffers>=2.0\n",
            "  Downloading flatbuffers-23.1.21-py2.py3-none-any.whl (26 kB)\n",
            "Collecting grpcio<2.0,>=1.24.3\n",
            "  Downloading grpcio-1.51.1-cp39-cp39-win_amd64.whl (3.7 MB)\n",
            "Requirement already satisfied: six>=1.12.0 in c:\\programdata\\anaconda3\\lib\\site-packages (from tensorflow-intel==2.11.0->tensorflow) (1.16.0)\n",
            "Collecting tensorflow-estimator<2.12,>=2.11.0\n",
            "  Downloading tensorflow_estimator-2.11.0-py2.py3-none-any.whl (439 kB)\n",
            "Collecting tensorboard<2.12,>=2.11\n",
            "  Downloading tensorboard-2.11.2-py3-none-any.whl (6.0 MB)\n",
            "Collecting google-pasta>=0.1.1\n",
            "  Using cached google_pasta-0.2.0-py3-none-any.whl (57 kB)\n",
            "Requirement already satisfied: setuptools in c:\\programdata\\anaconda3\\lib\\site-packages (from tensorflow-intel==2.11.0->tensorflow) (58.0.4)\n",
            "Requirement already satisfied: wheel<1.0,>=0.23.0 in c:\\programdata\\anaconda3\\lib\\site-packages (from astunparse>=1.6.0->tensorflow-intel==2.11.0->tensorflow) (0.37.0)\n",
            "Collecting tensorboard-data-server<0.7.0,>=0.6.0\n",
            "  Downloading tensorboard_data_server-0.6.1-py3-none-any.whl (2.4 kB)\n",
            "Requirement already satisfied: werkzeug>=1.0.1 in c:\\programdata\\anaconda3\\lib\\site-packages (from tensorboard<2.12,>=2.11->tensorflow-intel==2.11.0->tensorflow) (2.0.2)\n",
            "Collecting markdown>=2.6.8\n",
            "  Downloading Markdown-3.4.1-py3-none-any.whl (93 kB)\n",
            "Collecting google-auth<3,>=1.6.3\n",
            "  Downloading google_auth-2.16.0-py2.py3-none-any.whl (177 kB)\n",
            "Requirement already satisfied: requests<3,>=2.21.0 in c:\\programdata\\anaconda3\\lib\\site-packages (from tensorboard<2.12,>=2.11->tensorflow-intel==2.11.0->tensorflow) (2.26.0)\n",
            "Collecting google-auth-oauthlib<0.5,>=0.4.1\n",
            "  Downloading google_auth_oauthlib-0.4.6-py2.py3-none-any.whl (18 kB)\n",
            "Collecting tensorboard-plugin-wit>=1.6.0\n",
            "  Downloading tensorboard_plugin_wit-1.8.1-py3-none-any.whl (781 kB)\n",
            "Collecting rsa<5,>=3.1.4\n",
            "  Downloading rsa-4.9-py3-none-any.whl (34 kB)\n",
            "Collecting pyasn1-modules>=0.2.1\n",
            "  Using cached pyasn1_modules-0.2.8-py2.py3-none-any.whl (155 kB)\n",
            "Collecting cachetools<6.0,>=2.0.0\n",
            "  Downloading cachetools-5.3.0-py3-none-any.whl (9.3 kB)\n",
            "Collecting requests-oauthlib>=0.7.0\n",
            "  Downloading requests_oauthlib-1.3.1-py2.py3-none-any.whl (23 kB)\n",
            "Requirement already satisfied: importlib-metadata>=4.4 in c:\\programdata\\anaconda3\\lib\\site-packages (from markdown>=2.6.8->tensorboard<2.12,>=2.11->tensorflow-intel==2.11.0->tensorflow) (4.8.1)\n",
            "Requirement already satisfied: zipp>=0.5 in c:\\programdata\\anaconda3\\lib\\site-packages (from importlib-metadata>=4.4->markdown>=2.6.8->tensorboard<2.12,>=2.11->tensorflow-intel==2.11.0->tensorflow) (3.6.0)\n",
            "Collecting pyasn1<0.5.0,>=0.4.6\n",
            "  Using cached pyasn1-0.4.8-py2.py3-none-any.whl (77 kB)\n",
            "Requirement already satisfied: urllib3<1.27,>=1.21.1 in c:\\programdata\\anaconda3\\lib\\site-packages (from requests<3,>=2.21.0->tensorboard<2.12,>=2.11->tensorflow-intel==2.11.0->tensorflow) (1.26.7)\n",
            "Requirement already satisfied: certifi>=2017.4.17 in c:\\programdata\\anaconda3\\lib\\site-packages (from requests<3,>=2.21.0->tensorboard<2.12,>=2.11->tensorflow-intel==2.11.0->tensorflow) (2021.10.8)\n",
            "Requirement already satisfied: idna<4,>=2.5 in c:\\programdata\\anaconda3\\lib\\site-packages (from requests<3,>=2.21.0->tensorboard<2.12,>=2.11->tensorflow-intel==2.11.0->tensorflow) (3.2)\n",
            "Requirement already satisfied: charset-normalizer~=2.0.0 in c:\\programdata\\anaconda3\\lib\\site-packages (from requests<3,>=2.21.0->tensorboard<2.12,>=2.11->tensorflow-intel==2.11.0->tensorflow) (2.0.4)\n",
            "Collecting oauthlib>=3.0.0\n",
            "  Downloading oauthlib-3.2.2-py3-none-any.whl (151 kB)\n",
            "Requirement already satisfied: pyparsing>=2.0.2 in c:\\programdata\\anaconda3\\lib\\site-packages (from packaging->tensorflow-intel==2.11.0->tensorflow) (3.0.4)\n",
            "Installing collected packages: pyasn1, rsa, pyasn1-modules, oauthlib, cachetools, requests-oauthlib, google-auth, tensorboard-plugin-wit, tensorboard-data-server, protobuf, markdown, grpcio, google-auth-oauthlib, absl-py, termcolor, tensorflow-io-gcs-filesystem, tensorflow-estimator, tensorboard, opt-einsum, libclang, google-pasta, gast, flatbuffers, astunparse, tensorflow-intel, tensorflow\n",
            "Successfully installed absl-py-1.4.0 astunparse-1.6.3 cachetools-5.3.0 flatbuffers-23.1.21 gast-0.4.0 google-auth-2.16.0 google-auth-oauthlib-0.4.6 google-pasta-0.2.0 grpcio-1.51.1 libclang-15.0.6.1 markdown-3.4.1 oauthlib-3.2.2 opt-einsum-3.3.0 protobuf-3.19.6 pyasn1-0.4.8 pyasn1-modules-0.2.8 requests-oauthlib-1.3.1 rsa-4.9 tensorboard-2.11.2 tensorboard-data-server-0.6.1 tensorboard-plugin-wit-1.8.1 tensorflow-2.11.0 tensorflow-estimator-2.11.0 tensorflow-intel-2.11.0 tensorflow-io-gcs-filesystem-0.30.0 termcolor-2.2.0\n"
          ]
        }
      ],
      "source": [
        "#pip install keras\n",
        "!pip install tensorflow"
      ]
    },
    {
      "cell_type": "code",
      "execution_count": null,
      "id": "1f5ee1ac",
      "metadata": {
        "id": "1f5ee1ac"
      },
      "outputs": [],
      "source": [
        "import pandas as pd\n",
        "import numpy as np\n",
        "import matplotlib.pyplot as plt\n",
        "from matplotlib.backends.backend_tkagg import FigureCanvasTkAgg\n",
        "\n",
        "from sklearn.preprocessing import MinMaxScaler\n",
        "\n",
        "from keras.models import load_model\n",
        "#from attention import Attention\n",
        "\n",
        "import math\n",
        "from sklearn.metrics import mean_squared_error, mean_absolute_error, mean_absolute_percentage_error\n",
        "\n",
        "import tkinter as tk\n",
        "from tkinter import filedialog"
      ]
    },
    {
      "cell_type": "code",
      "execution_count": null,
      "id": "c3db780c",
      "metadata": {
        "id": "c3db780c"
      },
      "outputs": [],
      "source": [
        "# Convert an array of values into a dataset matrix\n",
        "def create_dataset(dataset, Window_Size):\n",
        "  dataX, dataY = [], []\n",
        "  for i in range(len(dataset) - Window_Size):\n",
        "    dataX.append(dataset[i : (i + Window_Size), 0])\n",
        "    dataY.append(dataset[i + Window_Size, 0])\n",
        "  return np.array(dataX), np.array(dataY)"
      ]
    },
    {
      "cell_type": "code",
      "execution_count": null,
      "id": "e4aaa721",
      "metadata": {
        "id": "e4aaa721"
      },
      "outputs": [],
      "source": [
        "def plot_result(Y_Test, Y_Pred):\n",
        "    \n",
        "    fig = plt.figure(figsize=(20,10))\n",
        "    ax = fig.add_subplot(111)\n",
        "    ax.plot(Y_Test, label='Actual Bitcoin Price')\n",
        "    ax.plot(Y_Pred, label='Predicted Bitcoin Price')\n",
        "    ax.set_xlabel('Time Interval')\n",
        "    ax.set_ylabel('Bitcoin Price')\n",
        "    ax.legend()\n",
        "\n",
        "    canvas = FigureCanvasTkAgg(fig, master=root)\n",
        "    canvas.draw()\n",
        "    canvas.get_tk_widget().pack(side=tk.TOP, fill=tk.BOTH, expand=1)"
      ]
    },
    {
      "cell_type": "code",
      "execution_count": null,
      "id": "b943e9eb",
      "metadata": {
        "id": "b943e9eb",
        "outputId": "5dfcfe4c-a084-4e67-e0f2-9e0a6123b6b8"
      },
      "outputs": [
        {
          "name": "stdout",
          "output_type": "stream",
          "text": [
            "You must give more than 6 Prices as Input\n",
            "How many prices you want to input?7\n",
            "Enter the prices\n",
            "\n",
            "1\n",
            "2\n",
            "3\n",
            "4\n",
            "5\n",
            "6\n",
            "7\n"
          ]
        }
      ],
      "source": [
        "tt = []\n",
        "ws = 5\n",
        "hour = 1\n",
        "u = 32\n",
        "\n",
        "print('You must give more than', ws+hour ,'Prices as Input')\n",
        "\n",
        "x = int(input('How many prices you want to input?'))\n",
        "\n",
        "if(x>(ws+hour)):\n",
        "    print('Enter the prices')\n",
        "    print('')\n",
        "    for i in range(0,x):\n",
        "        val = float(input())\n",
        "        tt.append(val)"
      ]
    },
    {
      "cell_type": "code",
      "execution_count": null,
      "id": "9ad9edb6",
      "metadata": {
        "id": "9ad9edb6",
        "outputId": "66ca673f-638d-47d3-c914-ea621287cc17"
      },
      "outputs": [
        {
          "data": {
            "text/plain": [
              "array([1., 2., 3., 4., 5., 6., 7.])"
            ]
          },
          "execution_count": 5,
          "metadata": {},
          "output_type": "execute_result"
        }
      ],
      "source": [
        "tt = np.array(tt)\n",
        "tt"
      ]
    },
    {
      "cell_type": "code",
      "execution_count": null,
      "id": "83b45aac",
      "metadata": {
        "id": "83b45aac"
      },
      "outputs": [],
      "source": [
        "column_values = ['close']\n",
        "  \n",
        "# creating the dataframe\n",
        "test = pd.DataFrame(data = tt, \n",
        "                  columns = column_values)\n",
        "\n",
        "test.to_csv(\"C:/Thesis_Test/test_data.csv\",index=False)"
      ]
    },
    {
      "cell_type": "code",
      "execution_count": null,
      "id": "cade35fa",
      "metadata": {
        "id": "cade35fa"
      },
      "outputs": [],
      "source": [
        "scaler=MinMaxScaler(feature_range=(0,1))\n",
        "global x_test, y_test"
      ]
    },
    {
      "cell_type": "code",
      "execution_count": null,
      "id": "e2ebd08c",
      "metadata": {
        "id": "e2ebd08c"
      },
      "outputs": [],
      "source": [
        "def preprocess(df):\n",
        "    test_prices = pd.to_numeric(df['close'], errors='coerce').values.reshape(-1,1)\n",
        "\n",
        "    \n",
        "    model_test_input=scaler.fit_transform(df['close'].values.reshape(-1,1))\n",
        "    \n",
        "    return model_test_input"
      ]
    },
    {
      "cell_type": "code",
      "execution_count": null,
      "id": "f2dd0312",
      "metadata": {
        "id": "f2dd0312",
        "outputId": "2d990c43-22fe-478b-df52-5bb631e16036"
      },
      "outputs": [
        {
          "name": "stdout",
          "output_type": "stream",
          "text": [
            "\n",
            "(2, 5, 1)\n",
            "(2, 1)\n",
            "1/1 [==============================] - 1s 1s/step\n",
            "\n",
            "Window Size: 5; LSTM units: 32\n",
            "\n",
            "Test data RMSE: 2.1167711332529136\t\t\tTest data MSE: 4.480720030572824\n",
            "Test data MAE: 2.1167689561843868\t\t\tTest data MAPE: 32.75590538978576\n",
            "_____________________________________\n",
            "Time series analysis completed\n"
          ]
        },
        {
          "data": {
            "image/png": "[encoded data removed]",
            "text/plain": [
              "<Figure size 800x352 with 1 Axes>"
            ]
          },
          "metadata": {
            "needs_background": "light"
          },
          "output_type": "display_data"
        }
      ],
      "source": [
        "def load_data():\n",
        "    \n",
        "    global x_test, y_test\n",
        "    \n",
        "    file_path = filedialog.askopenfilename()\n",
        "    # perform data loading and processing here\n",
        "    print()\n",
        "    \n",
        "    rr= f\"Data loaded from: {file_path}\"\n",
        "    \n",
        "    load_label = tk.Label(root, text=rr)\n",
        "    load_label.pack()\n",
        "    \n",
        "    testdf = pd.read_csv(file_path)\n",
        "    \n",
        "    test_input = preprocess(testdf)\n",
        "    \n",
        "    x_test, y_test=create_dataset(dataset=test_input, Window_Size=ws)\n",
        "    \n",
        "    r2= f\"X_test shape = {x_test.shape}\"\n",
        "    r3= f\"y_test shape = {y_test.shape}\"\n",
        "    \n",
        "    load_label2 = tk.Label(root, text=r2)\n",
        "    load_label3 = tk.Label(root, text=r3)\n",
        "    \n",
        "    load_label2.pack()\n",
        "    load_label3.pack()\n",
        "    \n",
        "    \n",
        "\n",
        "def run_analysis():\n",
        "    \n",
        "    global x_test, y_test\n",
        "    \n",
        "    x_test = x_test.reshape(x_test.shape[0],x_test.shape[1],1)\n",
        "    print(x_test.shape)\n",
        "    y_test = y_test.reshape(-1,1)\n",
        "    y_test = scaler.inverse_transform(y_test)\n",
        "    print(y_test.shape)\n",
        "    #print(y_test)\n",
        "    \n",
        "    model = load_model(f'C:/Thesis_Test/CNN_LSTM_MaxPool_Model_WS{ws}_Units{u}.h5')\n",
        "    \n",
        "    y_pred = model.predict(x_test)\n",
        "    y_pred = scaler.inverse_transform(y_pred)\n",
        "    \n",
        "    RMSE = math.sqrt(mean_squared_error(y_test,y_pred))\n",
        "    MSE = mean_squared_error(y_test,y_pred)\n",
        "    MAE = mean_absolute_error(y_test,y_pred)\n",
        "    MAPE = mean_absolute_percentage_error(y_test,y_pred)*100\n",
        "    \n",
        "    ra = \"\"\n",
        "    ra2 = f\"Window Size: {ws}; LSTM units: {u}\"\n",
        "    ra3 = \"\"\n",
        "    ra4 = f\"Test data RMSE: {RMSE}\\t\\t\\tTest data MSE: {MSE}\"\n",
        "    ra5 = f\"Test data MAE: {MAE}\\t\\t\\tTest data MAPE: {MAPE}\"\n",
        "    \n",
        "    print(ra)\n",
        "    print(ra2)\n",
        "    print(ra3)\n",
        "    print(ra4)\n",
        "    print(ra5)\n",
        "    print(\"_____________________________________\")\n",
        "    \n",
        "    load_label4 = tk.Label(root, text=ra)\n",
        "    load_label5 = tk.Label(root, text=ra2)\n",
        "    load_label6 = tk.Label(root, text=ra3)\n",
        "    load_label7 = tk.Label(root, text=ra4)\n",
        "    load_label8 = tk.Label(root, text=ra5)\n",
        "    \n",
        "    load_label4.pack()\n",
        "    load_label5.pack()\n",
        "    \n",
        "    load_label6.pack()\n",
        "    load_label7.pack()\n",
        "    \n",
        "    load_label8.pack()\n",
        "    \n",
        "    plot_result(y_test, y_pred)\n",
        "    \n",
        "    # perform time series analysis here\n",
        "    print(\"Time series analysis completed\")\n",
        "    \n",
        "\n",
        "\n",
        "root = tk.Tk()\n",
        "root.title(\"Time Series Analysis\")\n",
        "\n",
        "# Set the background color of the window to black\n",
        "#root.config(bg='DarkOliveGreen')\n",
        "root.geometry(\"800x600+100+50\")\n",
        "\n",
        "button_width = 10\n",
        "button_height = 1\n",
        "\n",
        "load_data_button = tk.Button(root, text=\"Load Data\", command=load_data, width=button_width, height=button_height)\n",
        "load_data_button.pack(pady=7)\n",
        "\n",
        "run_analysis_button = tk.Button(root, text=\"Run Analysis\", command=run_analysis, width=button_width, height=button_height)\n",
        "run_analysis_button.pack(pady=7)\n",
        "\n",
        "root.mainloop()\n"
      ]
    },
    {
      "cell_type": "code",
      "execution_count": null,
      "id": "da1ac35a",
      "metadata": {
        "id": "da1ac35a"
      },
      "outputs": [],
      "source": []
    }
  ],
  "metadata": {
    "kernelspec": {
      "display_name": "Python 3 (ipykernel)",
      "language": "python",
      "name": "python3"
    },
    "language_info": {
      "codemirror_mode": {
        "name": "ipython",
        "version": 3
      },
      "file_extension": ".py",
      "mimetype": "text/x-python",
      "name": "python",
      "nbconvert_exporter": "python",
      "pygments_lexer": "ipython3",
      "version": "3.9.7"
    },
    "colab": {
      "provenance": []
    }
  },
  "nbformat": 4,
  "nbformat_minor": 5
}